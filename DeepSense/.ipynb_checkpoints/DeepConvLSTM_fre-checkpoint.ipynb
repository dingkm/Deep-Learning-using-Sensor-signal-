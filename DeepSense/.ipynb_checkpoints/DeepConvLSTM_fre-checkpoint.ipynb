{
 "cells": [
  {
   "cell_type": "code",
   "execution_count": 1,
   "metadata": {},
   "outputs": [],
   "source": [
    "import tensorflow as tf\n",
    "import numpy as np\n",
    "import math\n",
    "\n",
    "SEPCTURAL_SAMPLES = 10\n",
    "FEATURE_DIM = SEPCTURAL_SAMPLES*6*2  #120\n",
    "CONV_LEN = 3\n",
    "CONV_LEN_INTE = 3#4\n",
    "CONV_LEN_LAST = 3#5\n",
    "CONV_NUM = 64\n",
    "CONV_MERGE_LEN = 8\n",
    "CONV_MERGE_LEN2 = 6\n",
    "CONV_MERGE_LEN3 = 4\n",
    "CONV_NUM2 = 64\n",
    "INTER_DIM = 128\n",
    "OUT_DIM = 6#len(idDict)\n",
    "WIDE = 20\n",
    "CONV_KEEP_PROB = 0.2\n",
    "\n",
    "BATCH_SIZE = 64\n",
    "TOTAL_ITER_NUM = 1000\n",
    "\n",
    "select = 'a'\n",
    "\n",
    "metaDict = {'a':[119080, 1193], 'b':[116870, 1413], 'c':[116020, 1477]}\n",
    "TRAIN_SIZE = metaDict[select][0]\n",
    "EVAL_DATA_SIZE = metaDict[select][1]\n",
    "EVAL_ITER_NUM = int(math.ceil(EVAL_DATA_SIZE / BATCH_SIZE))"
   ]
  },
  {
   "cell_type": "code",
   "execution_count": 2,
   "metadata": {},
   "outputs": [
    {
     "name": "stdout",
     "output_type": "stream",
     "text": [
      "(119080, 20, 120) (119080, 6)\n",
      "(1193, 20, 120) (1193, 6)\n",
      "[0. 0. 0. 0. 1. 0.]\n"
     ]
    }
   ],
   "source": [
    "###### Import training data\n",
    "train_x = np.load('DeepSense_data/train_x.npy')\n",
    "train_y = np.load('DeepSense_data/train_y.npy')\n",
    "eval_x = np.load('DeepSense_data/eval_x.npy')\n",
    "eval_y = np.load('DeepSense_data/eval_y.npy')\n",
    "\n",
    "# train_x = np.array(train_x)\n",
    "print(train_x.shape,train_y.shape)\n",
    "print(eval_x.shape,eval_y.shape)\n",
    "# overstamp = SMOTE(ratio={1: 6},random_state=0)\n",
    "\n",
    "# SMOTE_train_x, SMOTE_train_y = overstamp.fit_sample(train_x, train_y)\n",
    "\n",
    "# acc,gyo = np.split(train_x,2)\n",
    "# acc = acc.reshape((-1,20,60,1))\n",
    "# gyo = gyo.reshape((-1,20,60,1))\n",
    "# print(acc.shape,gyo.shape)\n",
    "print(train_y[0])"
   ]
  },
  {
   "cell_type": "code",
   "execution_count": 3,
   "metadata": {},
   "outputs": [
    {
     "name": "stderr",
     "output_type": "stream",
     "text": [
      "Using TensorFlow backend.\n"
     ]
    }
   ],
   "source": [
    "import matplotlib.pyplot as plt\n",
    "import keras\n",
    "from keras.models import Sequential\n",
    "from keras.layers import Dense\n",
    "from keras.layers import LSTM\n",
    "from keras.layers import Flatten\n",
    "from keras.layers import Dropout,Permute,Lambda\n",
    "from keras.layers.core import Activation\n",
    "from keras.layers import concatenate\n",
    "from keras.layers.convolutional import Conv1D\n",
    "from keras.layers.convolutional import Conv2D\n",
    "from keras.layers.convolutional import Conv3D\n",
    "from keras.layers.normalization import BatchNormalization\n",
    "from keras.layers import Input\n",
    "from keras import optimizers\n",
    "from keras.utils import np_utils\n",
    "from keras.models import Model\n",
    "from keras.layers import Reshape\n",
    "import keras.backend as K\n",
    "from keras.layers.recurrent import GRU,LSTM\n",
    "from keras.layers import GRUCell,Lambda\n",
    "from keras.layers import RNN\n",
    "from keras import regularizers\n",
    "# from keras.backend import concatenate\n",
    "from imblearn.over_sampling import SMOTE\n",
    "from sklearn.model_selection import train_test_split "
   ]
  },
  {
   "cell_type": "code",
   "execution_count": 4,
   "metadata": {},
   "outputs": [
    {
     "name": "stderr",
     "output_type": "stream",
     "text": [
      "WARNING: Logging before flag parsing goes to stderr.\n",
      "W0920 09:09:25.888209  9980 deprecation_wrapper.py:119] From C:\\Users\\AYA04_Intern\\Anaconda3\\envs\\tensorflow\\lib\\site-packages\\keras\\backend\\tensorflow_backend.py:517: The name tf.placeholder is deprecated. Please use tf.compat.v1.placeholder instead.\n",
      "\n",
      "W0920 09:09:25.890209  9980 deprecation_wrapper.py:119] From C:\\Users\\AYA04_Intern\\Anaconda3\\envs\\tensorflow\\lib\\site-packages\\keras\\backend\\tensorflow_backend.py:74: The name tf.get_default_graph is deprecated. Please use tf.compat.v1.get_default_graph instead.\n",
      "\n",
      "W0920 09:09:25.902210  9980 deprecation_wrapper.py:119] From C:\\Users\\AYA04_Intern\\Anaconda3\\envs\\tensorflow\\lib\\site-packages\\keras\\backend\\tensorflow_backend.py:4138: The name tf.random_uniform is deprecated. Please use tf.random.uniform instead.\n",
      "\n",
      "W0920 09:09:25.929211  9980 deprecation_wrapper.py:119] From C:\\Users\\AYA04_Intern\\Anaconda3\\envs\\tensorflow\\lib\\site-packages\\keras\\backend\\tensorflow_backend.py:174: The name tf.get_default_session is deprecated. Please use tf.compat.v1.get_default_session instead.\n",
      "\n",
      "W0920 09:09:25.930211  9980 deprecation_wrapper.py:119] From C:\\Users\\AYA04_Intern\\Anaconda3\\envs\\tensorflow\\lib\\site-packages\\keras\\backend\\tensorflow_backend.py:181: The name tf.ConfigProto is deprecated. Please use tf.compat.v1.ConfigProto instead.\n",
      "\n"
     ]
    },
    {
     "name": "stdout",
     "output_type": "stream",
     "text": [
      "shape of input  (?, 20, 120)\n",
      "shape after conv2d1  (?, 64, 16, 120)\n",
      "shape after conv2d2  (?, 64, 12, 120)\n",
      "shape before permute  (?, 64, 4, 120)\n",
      "shape after permute  (?, 4, 64, 120)\n",
      "shape before LSTM  (?, 4, ?)\n"
     ]
    },
    {
     "name": "stderr",
     "output_type": "stream",
     "text": [
      "W0920 09:09:28.211342  9980 deprecation_wrapper.py:119] From C:\\Users\\AYA04_Intern\\Anaconda3\\envs\\tensorflow\\lib\\site-packages\\keras\\optimizers.py:790: The name tf.train.Optimizer is deprecated. Please use tf.compat.v1.train.Optimizer instead.\n",
      "\n"
     ]
    },
    {
     "name": "stdout",
     "output_type": "stream",
     "text": [
      "_________________________________________________________________\n",
      "Layer (type)                 Output Shape              Param #   \n",
      "=================================================================\n",
      "input (InputLayer)           (None, 20, 120)           0         \n",
      "_________________________________________________________________\n",
      "reshape_1 (Reshape)          (None, 1, 20, 120)        0         \n",
      "_________________________________________________________________\n",
      "conv2d_1 (Conv2D)            (None, 64, 16, 120)       384       \n",
      "_________________________________________________________________\n",
      "conv2d_2 (Conv2D)            (None, 64, 12, 120)       20544     \n",
      "_________________________________________________________________\n",
      "conv2d_3 (Conv2D)            (None, 64, 8, 120)        20544     \n",
      "_________________________________________________________________\n",
      "conv2d_4 (Conv2D)            (None, 64, 4, 120)        20544     \n",
      "_________________________________________________________________\n",
      "permute_1 (Permute)          (None, 4, 64, 120)        0         \n",
      "_________________________________________________________________\n",
      "reshape_2 (Reshape)          (None, 4, 7680)           0         \n",
      "_________________________________________________________________\n",
      "lstm_1 (LSTM)                (None, 4, 128)            3998208   \n",
      "_________________________________________________________________\n",
      "lstm_2 (LSTM)                (None, 4, 128)            131584    \n",
      "_________________________________________________________________\n",
      "lambda_1 (Lambda)            (None, 1, 128)            0         \n",
      "_________________________________________________________________\n",
      "flatten_1 (Flatten)          (None, 128)               0         \n",
      "_________________________________________________________________\n",
      "dense_1 (Dense)              (None, 6)                 774       \n",
      "=================================================================\n",
      "Total params: 4,192,582\n",
      "Trainable params: 4,192,582\n",
      "Non-trainable params: 0\n",
      "_________________________________________________________________\n"
     ]
    }
   ],
   "source": [
    "NUM_FILTERS = 64\n",
    "FILTER_SIZE = 5\n",
    "NUM_UNITS_LSTM = 128\n",
    "rmp = optimizers.RMSprop(lr=0.0005, rho=0.9, epsilon=1e-08, decay=0.0)\n",
    "adam = optimizers.Adam(lr=0.001, beta_1=0.5, beta_2=0.9, epsilon=None, decay=0.0, amsgrad=False)\n",
    "\n",
    "inputs = Input(shape=(20,120), name='input')\n",
    "\n",
    "outputs = LSTM(64,return_sequences=True)(outputs)\n",
    "outputs = Dropout(0.2)(outputs)\n",
    "outputs = LSTM(32,return_sequences=True)(outputs)\n",
    "# outputs = Reshape((-1, NUM_UNITS_LSTM))(outputs)\n",
    "\n",
    "def reduce_dim(x):\n",
    "    return x[:,-1:]\n",
    "\n",
    "outputs = Lambda(reduce_dim)(outputs)\n",
    "outputs = Flatten()(outputs)\n",
    "outputs = Dense(6, activation='softmax')(outputs)\n",
    "# outputs = Reshape((-1, NUM_CLASSES))(outputs)\n",
    "\n",
    "# def reduce_dim(x):\n",
    "#     return x[:,-1:,1]\n",
    "\n",
    "# outputs = Lambda(reduce_dim)(outputs)\n",
    "model = Model(inputs=inputs, outputs=outputs)\n",
    "#adam = keras.optimizers.Adam(lr=0.001, beta_1=0.5, beta_2=0.9, epsilon=None, decay=0.0, amsgrad=False)\n",
    "model.compile(loss='categorical_crossentropy', optimizer=rmp, metrics=['accuracy'])\n",
    "\n",
    "model.summary()"
   ]
  },
  {
   "cell_type": "code",
   "execution_count": 5,
   "metadata": {},
   "outputs": [
    {
     "name": "stderr",
     "output_type": "stream",
     "text": [
      "W0920 09:09:33.592649  9980 deprecation.py:323] From C:\\Users\\AYA04_Intern\\Anaconda3\\envs\\tensorflow\\lib\\site-packages\\tensorflow\\python\\ops\\math_grad.py:1250: add_dispatch_support.<locals>.wrapper (from tensorflow.python.ops.array_ops) is deprecated and will be removed in a future version.\n",
      "Instructions for updating:\n",
      "Use tf.where in 2.0, which has the same broadcast rule as np.where\n"
     ]
    },
    {
     "name": "stdout",
     "output_type": "stream",
     "text": [
      "Train on 107172 samples, validate on 11908 samples\n",
      "Epoch 1/10\n",
      "107172/107172 [==============================] - 138s 1ms/step - loss: 0.2693 - acc: 0.9031 - val_loss: 0.4508 - val_acc: 0.8626\n",
      "Epoch 2/10\n",
      "107172/107172 [==============================] - 134s 1ms/step - loss: 0.1260 - acc: 0.9561 - val_loss: 0.4698 - val_acc: 0.8546\n",
      "Epoch 3/10\n",
      "107172/107172 [==============================] - 135s 1ms/step - loss: 0.1182 - acc: 0.9575 - val_loss: 0.4651 - val_acc: 0.8666\n",
      "Epoch 4/10\n",
      "107172/107172 [==============================] - 133s 1ms/step - loss: 0.1228 - acc: 0.9561 - val_loss: 0.4401 - val_acc: 0.8723\n",
      "Epoch 5/10\n",
      "107172/107172 [==============================] - 135s 1ms/step - loss: 0.1057 - acc: 0.9622 - val_loss: 0.4440 - val_acc: 0.8741\n",
      "Epoch 6/10\n",
      "107172/107172 [==============================] - 143s 1ms/step - loss: 0.1224 - acc: 0.9557 - val_loss: 0.3345 - val_acc: 0.9037\n",
      "Epoch 7/10\n",
      "107172/107172 [==============================] - 142s 1ms/step - loss: 0.1084 - acc: 0.9612 - val_loss: 0.3710 - val_acc: 0.8779\n",
      "Epoch 8/10\n",
      "107172/107172 [==============================] - 141s 1ms/step - loss: 0.1043 - acc: 0.9621 - val_loss: 0.4070 - val_acc: 0.8825\n",
      "Epoch 9/10\n",
      "107172/107172 [==============================] - 143s 1ms/step - loss: 0.1181 - acc: 0.9571 - val_loss: 0.4121 - val_acc: 0.8908\n",
      "Epoch 10/10\n",
      "107172/107172 [==============================] - 144s 1ms/step - loss: 0.1017 - acc: 0.9635 - val_loss: 0.3378 - val_acc: 0.8943\n"
     ]
    },
    {
     "data": {
      "text/plain": [
       "<keras.callbacks.History at 0x60f1be0>"
      ]
     },
     "execution_count": 5,
     "metadata": {},
     "output_type": "execute_result"
    }
   ],
   "source": [
    "# overstamp = SMOTE(ratio={1: 6},random_state=0)\n",
    "\n",
    "# SMOTE_train_x, SMOTE_train_y = overstamp.fit_sample(train_x, train_y)\n",
    "model.fit(train_x, train_y, validation_split=0.1, \n",
    "          epochs=10, batch_size=64, verbose=1)"
   ]
  },
  {
   "cell_type": "code",
   "execution_count": 6,
   "metadata": {},
   "outputs": [],
   "source": [
    "from keras.models import load_model\n",
    " \n",
    "#model.save('DeepConvLSTM_fre.h5')  # creates a HDF5 file 'my_model.h5'\n",
    "# del model  # deletes the existing model\n",
    " \n",
    "# returns a compiled model\n",
    "# identical to the previous one\n",
    "# model = load_model('DeepConvLSTM_fre.h5')"
   ]
  },
  {
   "cell_type": "code",
   "execution_count": 6,
   "metadata": {},
   "outputs": [
    {
     "name": "stdout",
     "output_type": "stream",
     "text": [
      "['loss', 'acc']\n",
      "1193/1193 [==============================] - 0s 389us/step\n",
      "loss, acc  1.0751128368585527 0.7426655492858535\n",
      "1193/1193 [==============================] - 0s 413us/step\n",
      "              precision    recall  f1-score   support\n",
      "\n",
      "           0       0.56      0.69      0.62       118\n",
      "           1       0.00      0.00      0.00         4\n",
      "           2       0.92      0.94      0.93       231\n",
      "           3       0.76      0.68      0.72       111\n",
      "           4       0.72      0.68      0.70       360\n",
      "           5       0.75      0.70      0.72       369\n",
      "\n",
      "   micro avg       0.75      0.74      0.74      1193\n",
      "   macro avg       0.62      0.62      0.62      1193\n",
      "weighted avg       0.75      0.74      0.74      1193\n",
      " samples avg       0.74      0.74      0.74      1193\n",
      "\n",
      "0.743250780494409\n",
      "[[ 83   0  19   1   3  12]\n",
      " [  4   0   0   0   0   0]\n",
      " [  4   2 218   7   0   0]\n",
      " [ 16   0   0  76   7  12]\n",
      " [ 45   0   1   7 245  62]\n",
      " [ 16   0   0   9  86 258]]\n"
     ]
    },
    {
     "name": "stderr",
     "output_type": "stream",
     "text": [
      "C:\\Users\\AYA04_Intern\\Anaconda3\\envs\\tensorflow\\lib\\site-packages\\sklearn\\metrics\\classification.py:1437: UndefinedMetricWarning: Precision and F-score are ill-defined and being set to 0.0 in samples with no predicted labels.\n",
      "  'precision', 'predicted', average, warn_for)\n"
     ]
    }
   ],
   "source": [
    "from sklearn.metrics import confusion_matrix, f1_score, precision_score, recall_score\n",
    "from sklearn.metrics import classification_report\n",
    "from sklearn import metrics\n",
    "\n",
    "test_x = eval_x\n",
    "test_y = eval_y\n",
    "# test_x = np.array(test_x)\n",
    "# test_y = np.array(test_y)\n",
    "\n",
    "# print ( \"Loss = \" + str( preds[0] ) )\n",
    "# print ( \"Test Accuracy = \" + str( preds[1] ) )\n",
    "print(model.metrics_names)\n",
    "loss, acc = model.evaluate(np.array(test_x), np.array(test_y), batch_size=128)\n",
    "print('loss, acc ',loss,acc)\n",
    "\n",
    "\n",
    "y_pred = model.predict(test_x, batch_size=128, verbose=1)\n",
    "y_pred = (y_pred > 0.5) \n",
    "y_pred_bool = np.argmax(y_pred, axis=1)\n",
    "\n",
    "# for i in range(len(y_pred)):\n",
    "#         max_value=max(y_pred[i])\n",
    "#         for j in range(len(y_pred[i])):\n",
    "#             if max_value==y_pred[i][j]:\n",
    "#                 y_pred[i][j]=1\n",
    "#             else:\n",
    "#                 y_pred[i][j]=0\n",
    "\n",
    "print(classification_report(test_y, y_pred))\n",
    "print(metrics.f1_score(test_y, y_pred, average=\"weighted\"))\n",
    "print(confusion_matrix(test_y.argmax(axis=1), y_pred.argmax(axis=1)))"
   ]
  },
  {
   "cell_type": "code",
   "execution_count": 8,
   "metadata": {},
   "outputs": [
    {
     "name": "stdout",
     "output_type": "stream",
     "text": [
      "[0. 0. 0. 0. 1. 0.]\n",
      "(1193, 6)\n",
      "0    1193\n",
      "1    1193\n",
      "2    1193\n",
      "3    1193\n",
      "4    1193\n",
      "5    1193\n",
      "dtype: int64\n",
      "0.0    1189\n",
      "1.0       4\n",
      "Name: 1, dtype: int64\n"
     ]
    }
   ],
   "source": [
    "import matplotlib.pyplot as plt\n",
    "print(eval_y[0])\n",
    "print(eval_y.shape)\n",
    "import pandas as pd  \n",
    "from pandas import DataFrame  \n",
    "from pandas import Series  \n",
    "df = DataFrame(eval_y) \n",
    "print(df.count())\n",
    "print(df[1].value_counts())\n",
    "# plt.hist(eval_y, bins=40)\n"
   ]
  },
  {
   "cell_type": "code",
   "execution_count": 9,
   "metadata": {},
   "outputs": [
    {
     "data": {
      "image/png": "[encoded data removed]",
      "text/plain": [
       "<Figure size 432x288 with 5 Axes>"
      ]
     },
     "metadata": {
      "needs_background": "light"
     },
     "output_type": "display_data"
    }
   ],
   "source": [
    "\n",
    "df2 = DataFrame(train_y)\n",
    "for i in range(5):\n",
    "    plt.subplot(2,3,i+1)\n",
    "    plt.title(' distribution of '+str(i))\n",
    "    df2[i].value_counts()\n",
    "    df2[i].value_counts().plot(kind='bar')"
   ]
  },
  {
   "cell_type": "code",
   "execution_count": null,
   "metadata": {},
   "outputs": [],
   "source": []
  }
 ],
 "metadata": {
  "kernelspec": {
   "display_name": "tensorflow",
   "language": "python",
   "name": "tensorflow"
  },
  "language_info": {
   "codemirror_mode": {
    "name": "ipython",
    "version": 3
   },
   "file_extension": ".py",
   "mimetype": "text/x-python",
   "name": "python",
   "nbconvert_exporter": "python",
   "pygments_lexer": "ipython3",
   "version": "3.6.9"
  }
 },
 "nbformat": 4,
 "nbformat_minor": 2
}
